{
 "cells": [
  {
   "cell_type": "code",
   "execution_count": null,
   "id": "2d047132-5211-4d5f-9391-4be533970fc8",
   "metadata": {},
   "outputs": [],
   "source": [
    "IMPORTING LIBRARIES"
   ]
  },
  {
   "cell_type": "code",
   "execution_count": 3,
   "id": "2a28b4b9-1337-4b6d-86e6-df2d986d0612",
   "metadata": {},
   "outputs": [],
   "source": [
    "import pandas as pd"
   ]
  },
  {
   "cell_type": "code",
   "execution_count": null,
   "id": "7060717e-dde0-482b-9528-f50df2fb92fd",
   "metadata": {},
   "outputs": [],
   "source": [
    "READING DATASETS TO DATAFRAME"
   ]
  },
  {
   "cell_type": "code",
   "execution_count": 4,
   "id": "afd4dd55-9b8f-45d0-94f0-fa8bc03e462b",
   "metadata": {},
   "outputs": [
    {
     "data": {
      "text/html": [
       "<div>\n",
       "<style scoped>\n",
       "    .dataframe tbody tr th:only-of-type {\n",
       "        vertical-align: middle;\n",
       "    }\n",
       "\n",
       "    .dataframe tbody tr th {\n",
       "        vertical-align: top;\n",
       "    }\n",
       "\n",
       "    .dataframe thead th {\n",
       "        text-align: right;\n",
       "    }\n",
       "</style>\n",
       "<table border=\"1\" class=\"dataframe\">\n",
       "  <thead>\n",
       "    <tr style=\"text-align: right;\">\n",
       "      <th></th>\n",
       "      <th>Unnamed: 0</th>\n",
       "      <th>Content ID</th>\n",
       "      <th>User ID</th>\n",
       "      <th>Type</th>\n",
       "      <th>Category</th>\n",
       "      <th>URL</th>\n",
       "    </tr>\n",
       "  </thead>\n",
       "  <tbody>\n",
       "    <tr>\n",
       "      <th>0</th>\n",
       "      <td>0</td>\n",
       "      <td>97522e57-d9ab-4bd6-97bf-c24d952602d2</td>\n",
       "      <td>8d3cd87d-8a31-4935-9a4f-b319bfe05f31</td>\n",
       "      <td>photo</td>\n",
       "      <td>Studying</td>\n",
       "      <td>https://socialbuzz.cdn.com/content/storage/975...</td>\n",
       "    </tr>\n",
       "    <tr>\n",
       "      <th>1</th>\n",
       "      <td>1</td>\n",
       "      <td>9f737e0a-3cdd-4d29-9d24-753f4e3be810</td>\n",
       "      <td>beb1f34e-7870-46d6-9fc7-2e12eb83ce43</td>\n",
       "      <td>photo</td>\n",
       "      <td>healthy eating</td>\n",
       "      <td>https://socialbuzz.cdn.com/content/storage/9f7...</td>\n",
       "    </tr>\n",
       "    <tr>\n",
       "      <th>2</th>\n",
       "      <td>2</td>\n",
       "      <td>230c4e4d-70c3-461d-b42c-ec09396efb3f</td>\n",
       "      <td>a5c65404-5894-4b87-82f2-d787cbee86b4</td>\n",
       "      <td>photo</td>\n",
       "      <td>healthy eating</td>\n",
       "      <td>https://socialbuzz.cdn.com/content/storage/230...</td>\n",
       "    </tr>\n",
       "    <tr>\n",
       "      <th>3</th>\n",
       "      <td>3</td>\n",
       "      <td>356fff80-da4d-4785-9f43-bc1261031dc6</td>\n",
       "      <td>9fb4ce88-fac1-406c-8544-1a899cee7aaf</td>\n",
       "      <td>photo</td>\n",
       "      <td>technology</td>\n",
       "      <td>https://socialbuzz.cdn.com/content/storage/356...</td>\n",
       "    </tr>\n",
       "    <tr>\n",
       "      <th>4</th>\n",
       "      <td>4</td>\n",
       "      <td>01ab84dd-6364-4236-abbb-3f237db77180</td>\n",
       "      <td>e206e31b-5f85-4964-b6ea-d7ee5324def1</td>\n",
       "      <td>video</td>\n",
       "      <td>food</td>\n",
       "      <td>https://socialbuzz.cdn.com/content/storage/01a...</td>\n",
       "    </tr>\n",
       "  </tbody>\n",
       "</table>\n",
       "</div>"
      ],
      "text/plain": [
       "   Unnamed: 0                            Content ID  \\\n",
       "0           0  97522e57-d9ab-4bd6-97bf-c24d952602d2   \n",
       "1           1  9f737e0a-3cdd-4d29-9d24-753f4e3be810   \n",
       "2           2  230c4e4d-70c3-461d-b42c-ec09396efb3f   \n",
       "3           3  356fff80-da4d-4785-9f43-bc1261031dc6   \n",
       "4           4  01ab84dd-6364-4236-abbb-3f237db77180   \n",
       "\n",
       "                                User ID   Type        Category  \\\n",
       "0  8d3cd87d-8a31-4935-9a4f-b319bfe05f31  photo        Studying   \n",
       "1  beb1f34e-7870-46d6-9fc7-2e12eb83ce43  photo  healthy eating   \n",
       "2  a5c65404-5894-4b87-82f2-d787cbee86b4  photo  healthy eating   \n",
       "3  9fb4ce88-fac1-406c-8544-1a899cee7aaf  photo      technology   \n",
       "4  e206e31b-5f85-4964-b6ea-d7ee5324def1  video            food   \n",
       "\n",
       "                                                 URL  \n",
       "0  https://socialbuzz.cdn.com/content/storage/975...  \n",
       "1  https://socialbuzz.cdn.com/content/storage/9f7...  \n",
       "2  https://socialbuzz.cdn.com/content/storage/230...  \n",
       "3  https://socialbuzz.cdn.com/content/storage/356...  \n",
       "4  https://socialbuzz.cdn.com/content/storage/01a...  "
      ]
     },
     "execution_count": 4,
     "metadata": {},
     "output_type": "execute_result"
    }
   ],
   "source": [
    "content = pd.read_csv('content.csv')\n",
    "content.head()"
   ]
  },
  {
   "cell_type": "code",
   "execution_count": 7,
   "id": "3783ff30-4f76-49c1-8ebf-4fd4f485aaa7",
   "metadata": {},
   "outputs": [
    {
     "data": {
      "text/html": [
       "<div>\n",
       "<style scoped>\n",
       "    .dataframe tbody tr th:only-of-type {\n",
       "        vertical-align: middle;\n",
       "    }\n",
       "\n",
       "    .dataframe tbody tr th {\n",
       "        vertical-align: top;\n",
       "    }\n",
       "\n",
       "    .dataframe thead th {\n",
       "        text-align: right;\n",
       "    }\n",
       "</style>\n",
       "<table border=\"1\" class=\"dataframe\">\n",
       "  <thead>\n",
       "    <tr style=\"text-align: right;\">\n",
       "      <th></th>\n",
       "      <th>Unnamed: 0</th>\n",
       "      <th>Content ID</th>\n",
       "      <th>User ID</th>\n",
       "      <th>Type</th>\n",
       "      <th>Datetime</th>\n",
       "    </tr>\n",
       "  </thead>\n",
       "  <tbody>\n",
       "    <tr>\n",
       "      <th>0</th>\n",
       "      <td>0</td>\n",
       "      <td>97522e57-d9ab-4bd6-97bf-c24d952602d2</td>\n",
       "      <td>NaN</td>\n",
       "      <td>NaN</td>\n",
       "      <td>2021-04-22 15:17:15</td>\n",
       "    </tr>\n",
       "    <tr>\n",
       "      <th>1</th>\n",
       "      <td>1</td>\n",
       "      <td>97522e57-d9ab-4bd6-97bf-c24d952602d2</td>\n",
       "      <td>5d454588-283d-459d-915d-c48a2cb4c27f</td>\n",
       "      <td>disgust</td>\n",
       "      <td>2020-11-07 09:43:50</td>\n",
       "    </tr>\n",
       "    <tr>\n",
       "      <th>2</th>\n",
       "      <td>2</td>\n",
       "      <td>97522e57-d9ab-4bd6-97bf-c24d952602d2</td>\n",
       "      <td>92b87fa5-f271-43e0-af66-84fac21052e6</td>\n",
       "      <td>dislike</td>\n",
       "      <td>2021-06-17 12:22:51</td>\n",
       "    </tr>\n",
       "    <tr>\n",
       "      <th>3</th>\n",
       "      <td>3</td>\n",
       "      <td>97522e57-d9ab-4bd6-97bf-c24d952602d2</td>\n",
       "      <td>163daa38-8b77-48c9-9af6-37a6c1447ac2</td>\n",
       "      <td>scared</td>\n",
       "      <td>2021-04-18 05:13:58</td>\n",
       "    </tr>\n",
       "    <tr>\n",
       "      <th>4</th>\n",
       "      <td>4</td>\n",
       "      <td>97522e57-d9ab-4bd6-97bf-c24d952602d2</td>\n",
       "      <td>34e8add9-0206-47fd-a501-037b994650a2</td>\n",
       "      <td>disgust</td>\n",
       "      <td>2021-01-06 19:13:01</td>\n",
       "    </tr>\n",
       "  </tbody>\n",
       "</table>\n",
       "</div>"
      ],
      "text/plain": [
       "   Unnamed: 0                            Content ID  \\\n",
       "0           0  97522e57-d9ab-4bd6-97bf-c24d952602d2   \n",
       "1           1  97522e57-d9ab-4bd6-97bf-c24d952602d2   \n",
       "2           2  97522e57-d9ab-4bd6-97bf-c24d952602d2   \n",
       "3           3  97522e57-d9ab-4bd6-97bf-c24d952602d2   \n",
       "4           4  97522e57-d9ab-4bd6-97bf-c24d952602d2   \n",
       "\n",
       "                                User ID     Type             Datetime  \n",
       "0                                   NaN      NaN  2021-04-22 15:17:15  \n",
       "1  5d454588-283d-459d-915d-c48a2cb4c27f  disgust  2020-11-07 09:43:50  \n",
       "2  92b87fa5-f271-43e0-af66-84fac21052e6  dislike  2021-06-17 12:22:51  \n",
       "3  163daa38-8b77-48c9-9af6-37a6c1447ac2   scared  2021-04-18 05:13:58  \n",
       "4  34e8add9-0206-47fd-a501-037b994650a2  disgust  2021-01-06 19:13:01  "
      ]
     },
     "execution_count": 7,
     "metadata": {},
     "output_type": "execute_result"
    }
   ],
   "source": [
    "reactions = pd.read_csv('Reactions.csv')\n",
    "reactions.head()"
   ]
  },
  {
   "cell_type": "code",
   "execution_count": 9,
   "id": "b1ec0d0e-159d-4197-be08-22026a81b14c",
   "metadata": {},
   "outputs": [
    {
     "data": {
      "text/html": [
       "<div>\n",
       "<style scoped>\n",
       "    .dataframe tbody tr th:only-of-type {\n",
       "        vertical-align: middle;\n",
       "    }\n",
       "\n",
       "    .dataframe tbody tr th {\n",
       "        vertical-align: top;\n",
       "    }\n",
       "\n",
       "    .dataframe thead th {\n",
       "        text-align: right;\n",
       "    }\n",
       "</style>\n",
       "<table border=\"1\" class=\"dataframe\">\n",
       "  <thead>\n",
       "    <tr style=\"text-align: right;\">\n",
       "      <th></th>\n",
       "      <th>Unnamed: 0</th>\n",
       "      <th>Type</th>\n",
       "      <th>Sentiment</th>\n",
       "      <th>Score</th>\n",
       "    </tr>\n",
       "  </thead>\n",
       "  <tbody>\n",
       "    <tr>\n",
       "      <th>0</th>\n",
       "      <td>0</td>\n",
       "      <td>heart</td>\n",
       "      <td>positive</td>\n",
       "      <td>60</td>\n",
       "    </tr>\n",
       "    <tr>\n",
       "      <th>1</th>\n",
       "      <td>1</td>\n",
       "      <td>want</td>\n",
       "      <td>positive</td>\n",
       "      <td>70</td>\n",
       "    </tr>\n",
       "    <tr>\n",
       "      <th>2</th>\n",
       "      <td>2</td>\n",
       "      <td>disgust</td>\n",
       "      <td>negative</td>\n",
       "      <td>0</td>\n",
       "    </tr>\n",
       "    <tr>\n",
       "      <th>3</th>\n",
       "      <td>3</td>\n",
       "      <td>hate</td>\n",
       "      <td>negative</td>\n",
       "      <td>5</td>\n",
       "    </tr>\n",
       "    <tr>\n",
       "      <th>4</th>\n",
       "      <td>4</td>\n",
       "      <td>interested</td>\n",
       "      <td>positive</td>\n",
       "      <td>30</td>\n",
       "    </tr>\n",
       "  </tbody>\n",
       "</table>\n",
       "</div>"
      ],
      "text/plain": [
       "   Unnamed: 0        Type Sentiment  Score\n",
       "0           0       heart  positive     60\n",
       "1           1        want  positive     70\n",
       "2           2     disgust  negative      0\n",
       "3           3        hate  negative      5\n",
       "4           4  interested  positive     30"
      ]
     },
     "execution_count": 9,
     "metadata": {},
     "output_type": "execute_result"
    }
   ],
   "source": [
    "reaction_types = pd.read_csv('ReactionTypes.csv')\n",
    "reaction_types.head()"
   ]
  },
  {
   "cell_type": "code",
   "execution_count": null,
   "id": "8f239cfc-eda2-4309-8d96-7dd78ec74d60",
   "metadata": {},
   "outputs": [],
   "source": [
    "CLEANING THE DATASETS"
   ]
  },
  {
   "cell_type": "code",
   "execution_count": 11,
   "id": "76b3c4a5-df12-4acc-af3f-a4bef4ffbe01",
   "metadata": {},
   "outputs": [
    {
     "data": {
      "text/plain": [
       "np.int64(0)"
      ]
     },
     "execution_count": 11,
     "metadata": {},
     "output_type": "execute_result"
    }
   ],
   "source": [
    "content.duplicated().sum()"
   ]
  },
  {
   "cell_type": "code",
   "execution_count": 13,
   "id": "6fb3fa21-b7af-40ea-8318-64b8fe2f143d",
   "metadata": {},
   "outputs": [
    {
     "data": {
      "text/plain": [
       "Unnamed: 0      0\n",
       "Content ID      0\n",
       "User ID         0\n",
       "Type            0\n",
       "Category        0\n",
       "URL           199\n",
       "dtype: int64"
      ]
     },
     "execution_count": 13,
     "metadata": {},
     "output_type": "execute_result"
    }
   ],
   "source": [
    "content.isna().sum()"
   ]
  },
  {
   "cell_type": "code",
   "execution_count": 15,
   "id": "97fcf276-33df-407d-9910-5b244e3a4ac4",
   "metadata": {},
   "outputs": [
    {
     "data": {
      "text/plain": [
       "np.int64(0)"
      ]
     },
     "execution_count": 15,
     "metadata": {},
     "output_type": "execute_result"
    }
   ],
   "source": [
    "reactions.duplicated().sum()"
   ]
  },
  {
   "cell_type": "code",
   "execution_count": 17,
   "id": "2986f2dc-21fa-4c77-958c-ba078b542417",
   "metadata": {},
   "outputs": [
    {
     "data": {
      "text/plain": [
       "Unnamed: 0       0\n",
       "Content ID       0\n",
       "User ID       3019\n",
       "Type           980\n",
       "Datetime         0\n",
       "dtype: int64"
      ]
     },
     "execution_count": 17,
     "metadata": {},
     "output_type": "execute_result"
    }
   ],
   "source": [
    "reactions.isna().sum()"
   ]
  },
  {
   "cell_type": "code",
   "execution_count": 19,
   "id": "9798a9c9-dd52-414a-946d-7cd7b90bda61",
   "metadata": {},
   "outputs": [],
   "source": [
    "content = content.drop(columns = ['URL', 'User ID'])"
   ]
  },
  {
   "cell_type": "code",
   "execution_count": 21,
   "id": "0fa37677-9ab9-4584-ad8a-143193109c6c",
   "metadata": {},
   "outputs": [],
   "source": [
    "reactions = reactions.drop(columns = 'User ID')"
   ]
  },
  {
   "cell_type": "code",
   "execution_count": 23,
   "id": "9fe08f09-dad9-40f3-bd04-c172cffe0c96",
   "metadata": {},
   "outputs": [
    {
     "data": {
      "text/plain": [
       "np.int64(0)"
      ]
     },
     "execution_count": 23,
     "metadata": {},
     "output_type": "execute_result"
    }
   ],
   "source": [
    "reaction_types.duplicated().sum()"
   ]
  },
  {
   "cell_type": "code",
   "execution_count": 25,
   "id": "3750f863-55b6-4f79-99c5-5a062d64ded9",
   "metadata": {},
   "outputs": [
    {
     "data": {
      "text/plain": [
       "Unnamed: 0    0\n",
       "Type          0\n",
       "Sentiment     0\n",
       "Score         0\n",
       "dtype: int64"
      ]
     },
     "execution_count": 25,
     "metadata": {},
     "output_type": "execute_result"
    }
   ],
   "source": [
    "reaction_types.isna().sum()"
   ]
  },
  {
   "cell_type": "code",
   "execution_count": 27,
   "id": "d741382c-df49-4aeb-bdfb-c0657e08f850",
   "metadata": {},
   "outputs": [],
   "source": [
    "reactions = reactions.dropna()"
   ]
  },
  {
   "cell_type": "code",
   "execution_count": 29,
   "id": "9b829f57-6bb5-4268-9c48-5e1b7a93bd45",
   "metadata": {},
   "outputs": [
    {
     "data": {
      "text/plain": [
       "Unnamed: 0    0\n",
       "Content ID    0\n",
       "Type          0\n",
       "Datetime      0\n",
       "dtype: int64"
      ]
     },
     "execution_count": 29,
     "metadata": {},
     "output_type": "execute_result"
    }
   ],
   "source": [
    "reactions.isna().sum()"
   ]
  },
  {
   "cell_type": "code",
   "execution_count": 31,
   "id": "53c3b89f-a639-4ae8-a482-0b1c442d9cd4",
   "metadata": {},
   "outputs": [],
   "source": [
    "content = content.copy()\n",
    "content.rename(columns = {'Unnamed: 0': \"index\"}, inplace = True)\n",
    "content.rename(columns = {'Type': \"ContentType\"}, inplace = True)\n",
    "\n",
    "reactions = reactions.copy()\n",
    "reactions.rename(columns = {'Unnamed: 0': \"index\"}, inplace = True)\n",
    "\n",
    "reaction_types = reaction_types.copy()\n",
    "reaction_types.rename(columns = {'Unnamed: 0': \"index\"}, inplace = True)"
   ]
  },
  {
   "cell_type": "code",
   "execution_count": 33,
   "id": "d68d1885-bc47-4307-90f6-7e8a7d6c1140",
   "metadata": {},
   "outputs": [
    {
     "data": {
      "text/plain": [
       "array(['photo', 'video', 'GIF', 'audio'], dtype=object)"
      ]
     },
     "execution_count": 33,
     "metadata": {},
     "output_type": "execute_result"
    }
   ],
   "source": [
    "content['ContentType'].unique()"
   ]
  },
  {
   "cell_type": "code",
   "execution_count": 35,
   "id": "ab759d42-50cd-4393-86f6-c057653425b4",
   "metadata": {},
   "outputs": [
    {
     "data": {
      "text/plain": [
       "array(['Studying', 'healthy eating', 'technology', 'food', 'cooking',\n",
       "       'dogs', 'soccer', 'public speaking', 'science', 'tennis', 'travel',\n",
       "       'fitness', 'education', 'studying', 'veganism', 'Animals',\n",
       "       'animals', 'culture', '\"culture\"', 'Fitness', '\"studying\"',\n",
       "       'Veganism', '\"animals\"', 'Travel', '\"soccer\"', 'Education',\n",
       "       '\"dogs\"', 'Technology', 'Soccer', '\"tennis\"', 'Culture', '\"food\"',\n",
       "       'Food', '\"technology\"', 'Healthy Eating', '\"cooking\"', 'Science',\n",
       "       '\"public speaking\"', '\"veganism\"', 'Public Speaking', '\"science\"'],\n",
       "      dtype=object)"
      ]
     },
     "execution_count": 35,
     "metadata": {},
     "output_type": "execute_result"
    }
   ],
   "source": [
    "content['Category'].unique()"
   ]
  },
  {
   "cell_type": "code",
   "execution_count": 37,
   "id": "4fad1d7c-4444-4014-af5d-91b392813d2d",
   "metadata": {},
   "outputs": [],
   "source": [
    "content['Category'] = content['Category'].str.replace('\"', '').str.strip().str.title()"
   ]
  },
  {
   "cell_type": "code",
   "execution_count": 39,
   "id": "e827a247-341d-49c6-b83c-e496b095f567",
   "metadata": {},
   "outputs": [
    {
     "data": {
      "text/plain": [
       "array(['Studying', 'Healthy Eating', 'Technology', 'Food', 'Cooking',\n",
       "       'Dogs', 'Soccer', 'Public Speaking', 'Science', 'Tennis', 'Travel',\n",
       "       'Fitness', 'Education', 'Veganism', 'Animals', 'Culture'],\n",
       "      dtype=object)"
      ]
     },
     "execution_count": 39,
     "metadata": {},
     "output_type": "execute_result"
    }
   ],
   "source": [
    "content['Category'].unique()"
   ]
  },
  {
   "cell_type": "code",
   "execution_count": 41,
   "id": "43222db5-0b55-45d6-a971-42a6aa957a47",
   "metadata": {},
   "outputs": [
    {
     "data": {
      "text/plain": [
       "array(['disgust', 'dislike', 'scared', 'interested', 'peeking', 'cherish',\n",
       "       'hate', 'love', 'indifferent', 'super love', 'intrigued',\n",
       "       'worried', 'like', 'heart', 'want', 'adore'], dtype=object)"
      ]
     },
     "execution_count": 41,
     "metadata": {},
     "output_type": "execute_result"
    }
   ],
   "source": [
    "reactions['Type'].unique()"
   ]
  },
  {
   "cell_type": "code",
   "execution_count": 43,
   "id": "dd317dce-0d71-44d0-b29c-e5c0ffb53970",
   "metadata": {},
   "outputs": [
    {
     "data": {
      "text/plain": [
       "array(['2020-11-07 09:43:50', '2021-06-17 12:22:51',\n",
       "       '2021-04-18 05:13:58', ..., '2020-09-12 03:54:58',\n",
       "       '2020-11-04 20:08:31', '2021-01-04 04:55:11'], dtype=object)"
      ]
     },
     "execution_count": 43,
     "metadata": {},
     "output_type": "execute_result"
    }
   ],
   "source": [
    "reactions['Datetime'].unique()"
   ]
  },
  {
   "cell_type": "code",
   "execution_count": 45,
   "id": "a091a10d-86eb-4fe8-be95-8f53d3ddee1c",
   "metadata": {},
   "outputs": [],
   "source": [
    "reactions['Datetime'] = pd.to_datetime(reactions['Datetime'])"
   ]
  },
  {
   "cell_type": "code",
   "execution_count": 47,
   "id": "97f58cef-c96d-4c90-95e4-8cb773ecd0b7",
   "metadata": {},
   "outputs": [
    {
     "data": {
      "text/html": [
       "<div>\n",
       "<style scoped>\n",
       "    .dataframe tbody tr th:only-of-type {\n",
       "        vertical-align: middle;\n",
       "    }\n",
       "\n",
       "    .dataframe tbody tr th {\n",
       "        vertical-align: top;\n",
       "    }\n",
       "\n",
       "    .dataframe thead th {\n",
       "        text-align: right;\n",
       "    }\n",
       "</style>\n",
       "<table border=\"1\" class=\"dataframe\">\n",
       "  <thead>\n",
       "    <tr style=\"text-align: right;\">\n",
       "      <th></th>\n",
       "      <th>index</th>\n",
       "      <th>Content ID</th>\n",
       "      <th>ContentType</th>\n",
       "      <th>Category</th>\n",
       "    </tr>\n",
       "  </thead>\n",
       "  <tbody>\n",
       "    <tr>\n",
       "      <th>0</th>\n",
       "      <td>0</td>\n",
       "      <td>97522e57-d9ab-4bd6-97bf-c24d952602d2</td>\n",
       "      <td>photo</td>\n",
       "      <td>Studying</td>\n",
       "    </tr>\n",
       "    <tr>\n",
       "      <th>1</th>\n",
       "      <td>1</td>\n",
       "      <td>9f737e0a-3cdd-4d29-9d24-753f4e3be810</td>\n",
       "      <td>photo</td>\n",
       "      <td>Healthy Eating</td>\n",
       "    </tr>\n",
       "    <tr>\n",
       "      <th>2</th>\n",
       "      <td>2</td>\n",
       "      <td>230c4e4d-70c3-461d-b42c-ec09396efb3f</td>\n",
       "      <td>photo</td>\n",
       "      <td>Healthy Eating</td>\n",
       "    </tr>\n",
       "    <tr>\n",
       "      <th>3</th>\n",
       "      <td>3</td>\n",
       "      <td>356fff80-da4d-4785-9f43-bc1261031dc6</td>\n",
       "      <td>photo</td>\n",
       "      <td>Technology</td>\n",
       "    </tr>\n",
       "    <tr>\n",
       "      <th>4</th>\n",
       "      <td>4</td>\n",
       "      <td>01ab84dd-6364-4236-abbb-3f237db77180</td>\n",
       "      <td>video</td>\n",
       "      <td>Food</td>\n",
       "    </tr>\n",
       "  </tbody>\n",
       "</table>\n",
       "</div>"
      ],
      "text/plain": [
       "   index                            Content ID ContentType        Category\n",
       "0      0  97522e57-d9ab-4bd6-97bf-c24d952602d2       photo        Studying\n",
       "1      1  9f737e0a-3cdd-4d29-9d24-753f4e3be810       photo  Healthy Eating\n",
       "2      2  230c4e4d-70c3-461d-b42c-ec09396efb3f       photo  Healthy Eating\n",
       "3      3  356fff80-da4d-4785-9f43-bc1261031dc6       photo      Technology\n",
       "4      4  01ab84dd-6364-4236-abbb-3f237db77180       video            Food"
      ]
     },
     "execution_count": 47,
     "metadata": {},
     "output_type": "execute_result"
    }
   ],
   "source": [
    "content.head()"
   ]
  },
  {
   "cell_type": "code",
   "execution_count": 49,
   "id": "bff7a166-6bbe-4733-86dc-6fa9097b8c43",
   "metadata": {},
   "outputs": [
    {
     "data": {
      "text/html": [
       "<div>\n",
       "<style scoped>\n",
       "    .dataframe tbody tr th:only-of-type {\n",
       "        vertical-align: middle;\n",
       "    }\n",
       "\n",
       "    .dataframe tbody tr th {\n",
       "        vertical-align: top;\n",
       "    }\n",
       "\n",
       "    .dataframe thead th {\n",
       "        text-align: right;\n",
       "    }\n",
       "</style>\n",
       "<table border=\"1\" class=\"dataframe\">\n",
       "  <thead>\n",
       "    <tr style=\"text-align: right;\">\n",
       "      <th></th>\n",
       "      <th>index</th>\n",
       "      <th>Content ID</th>\n",
       "      <th>Type</th>\n",
       "      <th>Datetime</th>\n",
       "    </tr>\n",
       "  </thead>\n",
       "  <tbody>\n",
       "    <tr>\n",
       "      <th>1</th>\n",
       "      <td>1</td>\n",
       "      <td>97522e57-d9ab-4bd6-97bf-c24d952602d2</td>\n",
       "      <td>disgust</td>\n",
       "      <td>2020-11-07 09:43:50</td>\n",
       "    </tr>\n",
       "    <tr>\n",
       "      <th>2</th>\n",
       "      <td>2</td>\n",
       "      <td>97522e57-d9ab-4bd6-97bf-c24d952602d2</td>\n",
       "      <td>dislike</td>\n",
       "      <td>2021-06-17 12:22:51</td>\n",
       "    </tr>\n",
       "    <tr>\n",
       "      <th>3</th>\n",
       "      <td>3</td>\n",
       "      <td>97522e57-d9ab-4bd6-97bf-c24d952602d2</td>\n",
       "      <td>scared</td>\n",
       "      <td>2021-04-18 05:13:58</td>\n",
       "    </tr>\n",
       "    <tr>\n",
       "      <th>4</th>\n",
       "      <td>4</td>\n",
       "      <td>97522e57-d9ab-4bd6-97bf-c24d952602d2</td>\n",
       "      <td>disgust</td>\n",
       "      <td>2021-01-06 19:13:01</td>\n",
       "    </tr>\n",
       "    <tr>\n",
       "      <th>5</th>\n",
       "      <td>5</td>\n",
       "      <td>97522e57-d9ab-4bd6-97bf-c24d952602d2</td>\n",
       "      <td>interested</td>\n",
       "      <td>2020-08-23 12:25:58</td>\n",
       "    </tr>\n",
       "  </tbody>\n",
       "</table>\n",
       "</div>"
      ],
      "text/plain": [
       "   index                            Content ID        Type            Datetime\n",
       "1      1  97522e57-d9ab-4bd6-97bf-c24d952602d2     disgust 2020-11-07 09:43:50\n",
       "2      2  97522e57-d9ab-4bd6-97bf-c24d952602d2     dislike 2021-06-17 12:22:51\n",
       "3      3  97522e57-d9ab-4bd6-97bf-c24d952602d2      scared 2021-04-18 05:13:58\n",
       "4      4  97522e57-d9ab-4bd6-97bf-c24d952602d2     disgust 2021-01-06 19:13:01\n",
       "5      5  97522e57-d9ab-4bd6-97bf-c24d952602d2  interested 2020-08-23 12:25:58"
      ]
     },
     "execution_count": 49,
     "metadata": {},
     "output_type": "execute_result"
    }
   ],
   "source": [
    "reactions.head()"
   ]
  },
  {
   "cell_type": "code",
   "execution_count": 51,
   "id": "81045b38-d0bd-40e2-8fc0-8fcdabaf3d61",
   "metadata": {},
   "outputs": [
    {
     "data": {
      "text/html": [
       "<div>\n",
       "<style scoped>\n",
       "    .dataframe tbody tr th:only-of-type {\n",
       "        vertical-align: middle;\n",
       "    }\n",
       "\n",
       "    .dataframe tbody tr th {\n",
       "        vertical-align: top;\n",
       "    }\n",
       "\n",
       "    .dataframe thead th {\n",
       "        text-align: right;\n",
       "    }\n",
       "</style>\n",
       "<table border=\"1\" class=\"dataframe\">\n",
       "  <thead>\n",
       "    <tr style=\"text-align: right;\">\n",
       "      <th></th>\n",
       "      <th>index</th>\n",
       "      <th>Type</th>\n",
       "      <th>Sentiment</th>\n",
       "      <th>Score</th>\n",
       "    </tr>\n",
       "  </thead>\n",
       "  <tbody>\n",
       "    <tr>\n",
       "      <th>0</th>\n",
       "      <td>0</td>\n",
       "      <td>heart</td>\n",
       "      <td>positive</td>\n",
       "      <td>60</td>\n",
       "    </tr>\n",
       "    <tr>\n",
       "      <th>1</th>\n",
       "      <td>1</td>\n",
       "      <td>want</td>\n",
       "      <td>positive</td>\n",
       "      <td>70</td>\n",
       "    </tr>\n",
       "    <tr>\n",
       "      <th>2</th>\n",
       "      <td>2</td>\n",
       "      <td>disgust</td>\n",
       "      <td>negative</td>\n",
       "      <td>0</td>\n",
       "    </tr>\n",
       "    <tr>\n",
       "      <th>3</th>\n",
       "      <td>3</td>\n",
       "      <td>hate</td>\n",
       "      <td>negative</td>\n",
       "      <td>5</td>\n",
       "    </tr>\n",
       "    <tr>\n",
       "      <th>4</th>\n",
       "      <td>4</td>\n",
       "      <td>interested</td>\n",
       "      <td>positive</td>\n",
       "      <td>30</td>\n",
       "    </tr>\n",
       "    <tr>\n",
       "      <th>5</th>\n",
       "      <td>5</td>\n",
       "      <td>indifferent</td>\n",
       "      <td>neutral</td>\n",
       "      <td>20</td>\n",
       "    </tr>\n",
       "    <tr>\n",
       "      <th>6</th>\n",
       "      <td>6</td>\n",
       "      <td>love</td>\n",
       "      <td>positive</td>\n",
       "      <td>65</td>\n",
       "    </tr>\n",
       "    <tr>\n",
       "      <th>7</th>\n",
       "      <td>7</td>\n",
       "      <td>super love</td>\n",
       "      <td>positive</td>\n",
       "      <td>75</td>\n",
       "    </tr>\n",
       "    <tr>\n",
       "      <th>8</th>\n",
       "      <td>8</td>\n",
       "      <td>cherish</td>\n",
       "      <td>positive</td>\n",
       "      <td>70</td>\n",
       "    </tr>\n",
       "    <tr>\n",
       "      <th>9</th>\n",
       "      <td>9</td>\n",
       "      <td>adore</td>\n",
       "      <td>positive</td>\n",
       "      <td>72</td>\n",
       "    </tr>\n",
       "    <tr>\n",
       "      <th>10</th>\n",
       "      <td>10</td>\n",
       "      <td>like</td>\n",
       "      <td>positive</td>\n",
       "      <td>50</td>\n",
       "    </tr>\n",
       "    <tr>\n",
       "      <th>11</th>\n",
       "      <td>11</td>\n",
       "      <td>dislike</td>\n",
       "      <td>negative</td>\n",
       "      <td>10</td>\n",
       "    </tr>\n",
       "    <tr>\n",
       "      <th>12</th>\n",
       "      <td>12</td>\n",
       "      <td>intrigued</td>\n",
       "      <td>positive</td>\n",
       "      <td>45</td>\n",
       "    </tr>\n",
       "    <tr>\n",
       "      <th>13</th>\n",
       "      <td>13</td>\n",
       "      <td>peeking</td>\n",
       "      <td>neutral</td>\n",
       "      <td>35</td>\n",
       "    </tr>\n",
       "    <tr>\n",
       "      <th>14</th>\n",
       "      <td>14</td>\n",
       "      <td>scared</td>\n",
       "      <td>negative</td>\n",
       "      <td>15</td>\n",
       "    </tr>\n",
       "    <tr>\n",
       "      <th>15</th>\n",
       "      <td>15</td>\n",
       "      <td>worried</td>\n",
       "      <td>negative</td>\n",
       "      <td>12</td>\n",
       "    </tr>\n",
       "  </tbody>\n",
       "</table>\n",
       "</div>"
      ],
      "text/plain": [
       "    index         Type Sentiment  Score\n",
       "0       0        heart  positive     60\n",
       "1       1         want  positive     70\n",
       "2       2      disgust  negative      0\n",
       "3       3         hate  negative      5\n",
       "4       4   interested  positive     30\n",
       "5       5  indifferent   neutral     20\n",
       "6       6         love  positive     65\n",
       "7       7   super love  positive     75\n",
       "8       8      cherish  positive     70\n",
       "9       9        adore  positive     72\n",
       "10     10         like  positive     50\n",
       "11     11      dislike  negative     10\n",
       "12     12    intrigued  positive     45\n",
       "13     13      peeking   neutral     35\n",
       "14     14       scared  negative     15\n",
       "15     15      worried  negative     12"
      ]
     },
     "execution_count": 51,
     "metadata": {},
     "output_type": "execute_result"
    }
   ],
   "source": [
    "reaction_types"
   ]
  },
  {
   "cell_type": "code",
   "execution_count": 53,
   "id": "cc960d80-58b7-4933-a459-a9f499d5fa61",
   "metadata": {},
   "outputs": [
    {
     "data": {
      "text/plain": [
       "index        0\n",
       "Type         0\n",
       "Sentiment    0\n",
       "Score        0\n",
       "dtype: int64"
      ]
     },
     "execution_count": 53,
     "metadata": {},
     "output_type": "execute_result"
    }
   ],
   "source": [
    "reaction_types.isna().sum()"
   ]
  },
  {
   "cell_type": "code",
   "execution_count": null,
   "id": "12ced794-bba8-4835-aee7-754789462249",
   "metadata": {},
   "outputs": [],
   "source": [
    "DATA MODELLING"
   ]
  },
  {
   "cell_type": "code",
   "execution_count": 55,
   "id": "bbbb5750-c2b9-4805-b72f-2055165a003f",
   "metadata": {},
   "outputs": [
    {
     "data": {
      "text/html": [
       "<div>\n",
       "<style scoped>\n",
       "    .dataframe tbody tr th:only-of-type {\n",
       "        vertical-align: middle;\n",
       "    }\n",
       "\n",
       "    .dataframe tbody tr th {\n",
       "        vertical-align: top;\n",
       "    }\n",
       "\n",
       "    .dataframe thead th {\n",
       "        text-align: right;\n",
       "    }\n",
       "</style>\n",
       "<table border=\"1\" class=\"dataframe\">\n",
       "  <thead>\n",
       "    <tr style=\"text-align: right;\">\n",
       "      <th></th>\n",
       "      <th>index_x</th>\n",
       "      <th>Content ID</th>\n",
       "      <th>ContentType</th>\n",
       "      <th>Category</th>\n",
       "      <th>index_y</th>\n",
       "      <th>Type</th>\n",
       "      <th>Datetime</th>\n",
       "      <th>index</th>\n",
       "      <th>Sentiment</th>\n",
       "      <th>Score</th>\n",
       "    </tr>\n",
       "  </thead>\n",
       "  <tbody>\n",
       "    <tr>\n",
       "      <th>0</th>\n",
       "      <td>0</td>\n",
       "      <td>97522e57-d9ab-4bd6-97bf-c24d952602d2</td>\n",
       "      <td>photo</td>\n",
       "      <td>Studying</td>\n",
       "      <td>1.0</td>\n",
       "      <td>disgust</td>\n",
       "      <td>2020-11-07 09:43:50</td>\n",
       "      <td>2.0</td>\n",
       "      <td>negative</td>\n",
       "      <td>0.0</td>\n",
       "    </tr>\n",
       "    <tr>\n",
       "      <th>1</th>\n",
       "      <td>0</td>\n",
       "      <td>97522e57-d9ab-4bd6-97bf-c24d952602d2</td>\n",
       "      <td>photo</td>\n",
       "      <td>Studying</td>\n",
       "      <td>2.0</td>\n",
       "      <td>dislike</td>\n",
       "      <td>2021-06-17 12:22:51</td>\n",
       "      <td>11.0</td>\n",
       "      <td>negative</td>\n",
       "      <td>10.0</td>\n",
       "    </tr>\n",
       "    <tr>\n",
       "      <th>2</th>\n",
       "      <td>0</td>\n",
       "      <td>97522e57-d9ab-4bd6-97bf-c24d952602d2</td>\n",
       "      <td>photo</td>\n",
       "      <td>Studying</td>\n",
       "      <td>3.0</td>\n",
       "      <td>scared</td>\n",
       "      <td>2021-04-18 05:13:58</td>\n",
       "      <td>14.0</td>\n",
       "      <td>negative</td>\n",
       "      <td>15.0</td>\n",
       "    </tr>\n",
       "    <tr>\n",
       "      <th>3</th>\n",
       "      <td>0</td>\n",
       "      <td>97522e57-d9ab-4bd6-97bf-c24d952602d2</td>\n",
       "      <td>photo</td>\n",
       "      <td>Studying</td>\n",
       "      <td>4.0</td>\n",
       "      <td>disgust</td>\n",
       "      <td>2021-01-06 19:13:01</td>\n",
       "      <td>2.0</td>\n",
       "      <td>negative</td>\n",
       "      <td>0.0</td>\n",
       "    </tr>\n",
       "    <tr>\n",
       "      <th>4</th>\n",
       "      <td>0</td>\n",
       "      <td>97522e57-d9ab-4bd6-97bf-c24d952602d2</td>\n",
       "      <td>photo</td>\n",
       "      <td>Studying</td>\n",
       "      <td>5.0</td>\n",
       "      <td>interested</td>\n",
       "      <td>2020-08-23 12:25:58</td>\n",
       "      <td>4.0</td>\n",
       "      <td>positive</td>\n",
       "      <td>30.0</td>\n",
       "    </tr>\n",
       "    <tr>\n",
       "      <th>...</th>\n",
       "      <td>...</td>\n",
       "      <td>...</td>\n",
       "      <td>...</td>\n",
       "      <td>...</td>\n",
       "      <td>...</td>\n",
       "      <td>...</td>\n",
       "      <td>...</td>\n",
       "      <td>...</td>\n",
       "      <td>...</td>\n",
       "      <td>...</td>\n",
       "    </tr>\n",
       "    <tr>\n",
       "      <th>24606</th>\n",
       "      <td>999</td>\n",
       "      <td>75d6b589-7fae-4a6d-b0d0-752845150e56</td>\n",
       "      <td>audio</td>\n",
       "      <td>Technology</td>\n",
       "      <td>25548.0</td>\n",
       "      <td>dislike</td>\n",
       "      <td>2020-06-27 09:46:48</td>\n",
       "      <td>11.0</td>\n",
       "      <td>negative</td>\n",
       "      <td>10.0</td>\n",
       "    </tr>\n",
       "    <tr>\n",
       "      <th>24607</th>\n",
       "      <td>999</td>\n",
       "      <td>75d6b589-7fae-4a6d-b0d0-752845150e56</td>\n",
       "      <td>audio</td>\n",
       "      <td>Technology</td>\n",
       "      <td>25549.0</td>\n",
       "      <td>intrigued</td>\n",
       "      <td>2021-02-16 17:17:02</td>\n",
       "      <td>12.0</td>\n",
       "      <td>positive</td>\n",
       "      <td>45.0</td>\n",
       "    </tr>\n",
       "    <tr>\n",
       "      <th>24608</th>\n",
       "      <td>999</td>\n",
       "      <td>75d6b589-7fae-4a6d-b0d0-752845150e56</td>\n",
       "      <td>audio</td>\n",
       "      <td>Technology</td>\n",
       "      <td>25550.0</td>\n",
       "      <td>interested</td>\n",
       "      <td>2020-09-12 03:54:58</td>\n",
       "      <td>4.0</td>\n",
       "      <td>positive</td>\n",
       "      <td>30.0</td>\n",
       "    </tr>\n",
       "    <tr>\n",
       "      <th>24609</th>\n",
       "      <td>999</td>\n",
       "      <td>75d6b589-7fae-4a6d-b0d0-752845150e56</td>\n",
       "      <td>audio</td>\n",
       "      <td>Technology</td>\n",
       "      <td>25551.0</td>\n",
       "      <td>worried</td>\n",
       "      <td>2020-11-04 20:08:31</td>\n",
       "      <td>15.0</td>\n",
       "      <td>negative</td>\n",
       "      <td>12.0</td>\n",
       "    </tr>\n",
       "    <tr>\n",
       "      <th>24610</th>\n",
       "      <td>999</td>\n",
       "      <td>75d6b589-7fae-4a6d-b0d0-752845150e56</td>\n",
       "      <td>audio</td>\n",
       "      <td>Technology</td>\n",
       "      <td>25552.0</td>\n",
       "      <td>cherish</td>\n",
       "      <td>2021-01-04 04:55:11</td>\n",
       "      <td>8.0</td>\n",
       "      <td>positive</td>\n",
       "      <td>70.0</td>\n",
       "    </tr>\n",
       "  </tbody>\n",
       "</table>\n",
       "<p>24611 rows × 10 columns</p>\n",
       "</div>"
      ],
      "text/plain": [
       "       index_x                            Content ID ContentType    Category  \\\n",
       "0            0  97522e57-d9ab-4bd6-97bf-c24d952602d2       photo    Studying   \n",
       "1            0  97522e57-d9ab-4bd6-97bf-c24d952602d2       photo    Studying   \n",
       "2            0  97522e57-d9ab-4bd6-97bf-c24d952602d2       photo    Studying   \n",
       "3            0  97522e57-d9ab-4bd6-97bf-c24d952602d2       photo    Studying   \n",
       "4            0  97522e57-d9ab-4bd6-97bf-c24d952602d2       photo    Studying   \n",
       "...        ...                                   ...         ...         ...   \n",
       "24606      999  75d6b589-7fae-4a6d-b0d0-752845150e56       audio  Technology   \n",
       "24607      999  75d6b589-7fae-4a6d-b0d0-752845150e56       audio  Technology   \n",
       "24608      999  75d6b589-7fae-4a6d-b0d0-752845150e56       audio  Technology   \n",
       "24609      999  75d6b589-7fae-4a6d-b0d0-752845150e56       audio  Technology   \n",
       "24610      999  75d6b589-7fae-4a6d-b0d0-752845150e56       audio  Technology   \n",
       "\n",
       "       index_y        Type            Datetime  index Sentiment  Score  \n",
       "0          1.0     disgust 2020-11-07 09:43:50    2.0  negative    0.0  \n",
       "1          2.0     dislike 2021-06-17 12:22:51   11.0  negative   10.0  \n",
       "2          3.0      scared 2021-04-18 05:13:58   14.0  negative   15.0  \n",
       "3          4.0     disgust 2021-01-06 19:13:01    2.0  negative    0.0  \n",
       "4          5.0  interested 2020-08-23 12:25:58    4.0  positive   30.0  \n",
       "...        ...         ...                 ...    ...       ...    ...  \n",
       "24606  25548.0     dislike 2020-06-27 09:46:48   11.0  negative   10.0  \n",
       "24607  25549.0   intrigued 2021-02-16 17:17:02   12.0  positive   45.0  \n",
       "24608  25550.0  interested 2020-09-12 03:54:58    4.0  positive   30.0  \n",
       "24609  25551.0     worried 2020-11-04 20:08:31   15.0  negative   12.0  \n",
       "24610  25552.0     cherish 2021-01-04 04:55:11    8.0  positive   70.0  \n",
       "\n",
       "[24611 rows x 10 columns]"
      ]
     },
     "execution_count": 55,
     "metadata": {},
     "output_type": "execute_result"
    }
   ],
   "source": [
    "df = content.merge(reactions, on='Content ID', how='left').merge(reaction_types, on='Type', how='left')\n",
    "df"
   ]
  },
  {
   "cell_type": "code",
   "execution_count": 57,
   "id": "61458cc6-2c65-4766-8b2b-80d3037b23f4",
   "metadata": {},
   "outputs": [
    {
     "data": {
      "text/plain": [
       "index_x         0\n",
       "Content ID      0\n",
       "ContentType     0\n",
       "Category        0\n",
       "index_y        38\n",
       "Type           38\n",
       "Datetime       38\n",
       "index          38\n",
       "Sentiment      38\n",
       "Score          38\n",
       "dtype: int64"
      ]
     },
     "execution_count": 57,
     "metadata": {},
     "output_type": "execute_result"
    }
   ],
   "source": [
    "df.isna().sum()"
   ]
  },
  {
   "cell_type": "code",
   "execution_count": 59,
   "id": "21cba878-efa3-4eb9-b72b-c61e0aba0fc0",
   "metadata": {},
   "outputs": [],
   "source": [
    "df = df.drop(columns=['index_x', 'index_y', 'index'])"
   ]
  },
  {
   "cell_type": "code",
   "execution_count": 61,
   "id": "07f08eb2-7715-4279-a67c-0e6ef9bbc0e5",
   "metadata": {},
   "outputs": [
    {
     "data": {
      "text/html": [
       "<div>\n",
       "<style scoped>\n",
       "    .dataframe tbody tr th:only-of-type {\n",
       "        vertical-align: middle;\n",
       "    }\n",
       "\n",
       "    .dataframe tbody tr th {\n",
       "        vertical-align: top;\n",
       "    }\n",
       "\n",
       "    .dataframe thead th {\n",
       "        text-align: right;\n",
       "    }\n",
       "</style>\n",
       "<table border=\"1\" class=\"dataframe\">\n",
       "  <thead>\n",
       "    <tr style=\"text-align: right;\">\n",
       "      <th></th>\n",
       "      <th>Content ID</th>\n",
       "      <th>ContentType</th>\n",
       "      <th>Category</th>\n",
       "      <th>Type</th>\n",
       "      <th>Datetime</th>\n",
       "      <th>Sentiment</th>\n",
       "      <th>Score</th>\n",
       "    </tr>\n",
       "  </thead>\n",
       "  <tbody>\n",
       "    <tr>\n",
       "      <th>0</th>\n",
       "      <td>97522e57-d9ab-4bd6-97bf-c24d952602d2</td>\n",
       "      <td>photo</td>\n",
       "      <td>Studying</td>\n",
       "      <td>disgust</td>\n",
       "      <td>2020-11-07 09:43:50</td>\n",
       "      <td>negative</td>\n",
       "      <td>0.0</td>\n",
       "    </tr>\n",
       "    <tr>\n",
       "      <th>1</th>\n",
       "      <td>97522e57-d9ab-4bd6-97bf-c24d952602d2</td>\n",
       "      <td>photo</td>\n",
       "      <td>Studying</td>\n",
       "      <td>dislike</td>\n",
       "      <td>2021-06-17 12:22:51</td>\n",
       "      <td>negative</td>\n",
       "      <td>10.0</td>\n",
       "    </tr>\n",
       "    <tr>\n",
       "      <th>2</th>\n",
       "      <td>97522e57-d9ab-4bd6-97bf-c24d952602d2</td>\n",
       "      <td>photo</td>\n",
       "      <td>Studying</td>\n",
       "      <td>scared</td>\n",
       "      <td>2021-04-18 05:13:58</td>\n",
       "      <td>negative</td>\n",
       "      <td>15.0</td>\n",
       "    </tr>\n",
       "    <tr>\n",
       "      <th>3</th>\n",
       "      <td>97522e57-d9ab-4bd6-97bf-c24d952602d2</td>\n",
       "      <td>photo</td>\n",
       "      <td>Studying</td>\n",
       "      <td>disgust</td>\n",
       "      <td>2021-01-06 19:13:01</td>\n",
       "      <td>negative</td>\n",
       "      <td>0.0</td>\n",
       "    </tr>\n",
       "    <tr>\n",
       "      <th>4</th>\n",
       "      <td>97522e57-d9ab-4bd6-97bf-c24d952602d2</td>\n",
       "      <td>photo</td>\n",
       "      <td>Studying</td>\n",
       "      <td>interested</td>\n",
       "      <td>2020-08-23 12:25:58</td>\n",
       "      <td>positive</td>\n",
       "      <td>30.0</td>\n",
       "    </tr>\n",
       "    <tr>\n",
       "      <th>...</th>\n",
       "      <td>...</td>\n",
       "      <td>...</td>\n",
       "      <td>...</td>\n",
       "      <td>...</td>\n",
       "      <td>...</td>\n",
       "      <td>...</td>\n",
       "      <td>...</td>\n",
       "    </tr>\n",
       "    <tr>\n",
       "      <th>24606</th>\n",
       "      <td>75d6b589-7fae-4a6d-b0d0-752845150e56</td>\n",
       "      <td>audio</td>\n",
       "      <td>Technology</td>\n",
       "      <td>dislike</td>\n",
       "      <td>2020-06-27 09:46:48</td>\n",
       "      <td>negative</td>\n",
       "      <td>10.0</td>\n",
       "    </tr>\n",
       "    <tr>\n",
       "      <th>24607</th>\n",
       "      <td>75d6b589-7fae-4a6d-b0d0-752845150e56</td>\n",
       "      <td>audio</td>\n",
       "      <td>Technology</td>\n",
       "      <td>intrigued</td>\n",
       "      <td>2021-02-16 17:17:02</td>\n",
       "      <td>positive</td>\n",
       "      <td>45.0</td>\n",
       "    </tr>\n",
       "    <tr>\n",
       "      <th>24608</th>\n",
       "      <td>75d6b589-7fae-4a6d-b0d0-752845150e56</td>\n",
       "      <td>audio</td>\n",
       "      <td>Technology</td>\n",
       "      <td>interested</td>\n",
       "      <td>2020-09-12 03:54:58</td>\n",
       "      <td>positive</td>\n",
       "      <td>30.0</td>\n",
       "    </tr>\n",
       "    <tr>\n",
       "      <th>24609</th>\n",
       "      <td>75d6b589-7fae-4a6d-b0d0-752845150e56</td>\n",
       "      <td>audio</td>\n",
       "      <td>Technology</td>\n",
       "      <td>worried</td>\n",
       "      <td>2020-11-04 20:08:31</td>\n",
       "      <td>negative</td>\n",
       "      <td>12.0</td>\n",
       "    </tr>\n",
       "    <tr>\n",
       "      <th>24610</th>\n",
       "      <td>75d6b589-7fae-4a6d-b0d0-752845150e56</td>\n",
       "      <td>audio</td>\n",
       "      <td>Technology</td>\n",
       "      <td>cherish</td>\n",
       "      <td>2021-01-04 04:55:11</td>\n",
       "      <td>positive</td>\n",
       "      <td>70.0</td>\n",
       "    </tr>\n",
       "  </tbody>\n",
       "</table>\n",
       "<p>24611 rows × 7 columns</p>\n",
       "</div>"
      ],
      "text/plain": [
       "                                 Content ID ContentType    Category  \\\n",
       "0      97522e57-d9ab-4bd6-97bf-c24d952602d2       photo    Studying   \n",
       "1      97522e57-d9ab-4bd6-97bf-c24d952602d2       photo    Studying   \n",
       "2      97522e57-d9ab-4bd6-97bf-c24d952602d2       photo    Studying   \n",
       "3      97522e57-d9ab-4bd6-97bf-c24d952602d2       photo    Studying   \n",
       "4      97522e57-d9ab-4bd6-97bf-c24d952602d2       photo    Studying   \n",
       "...                                     ...         ...         ...   \n",
       "24606  75d6b589-7fae-4a6d-b0d0-752845150e56       audio  Technology   \n",
       "24607  75d6b589-7fae-4a6d-b0d0-752845150e56       audio  Technology   \n",
       "24608  75d6b589-7fae-4a6d-b0d0-752845150e56       audio  Technology   \n",
       "24609  75d6b589-7fae-4a6d-b0d0-752845150e56       audio  Technology   \n",
       "24610  75d6b589-7fae-4a6d-b0d0-752845150e56       audio  Technology   \n",
       "\n",
       "             Type            Datetime Sentiment  Score  \n",
       "0         disgust 2020-11-07 09:43:50  negative    0.0  \n",
       "1         dislike 2021-06-17 12:22:51  negative   10.0  \n",
       "2          scared 2021-04-18 05:13:58  negative   15.0  \n",
       "3         disgust 2021-01-06 19:13:01  negative    0.0  \n",
       "4      interested 2020-08-23 12:25:58  positive   30.0  \n",
       "...           ...                 ...       ...    ...  \n",
       "24606     dislike 2020-06-27 09:46:48  negative   10.0  \n",
       "24607   intrigued 2021-02-16 17:17:02  positive   45.0  \n",
       "24608  interested 2020-09-12 03:54:58  positive   30.0  \n",
       "24609     worried 2020-11-04 20:08:31  negative   12.0  \n",
       "24610     cherish 2021-01-04 04:55:11  positive   70.0  \n",
       "\n",
       "[24611 rows x 7 columns]"
      ]
     },
     "execution_count": 61,
     "metadata": {},
     "output_type": "execute_result"
    }
   ],
   "source": [
    "df"
   ]
  },
  {
   "cell_type": "code",
   "execution_count": 185,
   "id": "5a0af1b3-5b46-41e9-b526-0461b2003374",
   "metadata": {},
   "outputs": [
    {
     "data": {
      "text/plain": [
       "Content ID      0\n",
       "ContentType     0\n",
       "Category        0\n",
       "Type           38\n",
       "Datetime       38\n",
       "Sentiment      38\n",
       "Score          38\n",
       "dtype: int64"
      ]
     },
     "execution_count": 185,
     "metadata": {},
     "output_type": "execute_result"
    }
   ],
   "source": [
    "df.isna().sum()"
   ]
  },
  {
   "cell_type": "code",
   "execution_count": 63,
   "id": "7cf1a9d9-bff5-4573-a958-6527eb5c17ae",
   "metadata": {},
   "outputs": [
    {
     "data": {
      "text/html": [
       "<div>\n",
       "<style scoped>\n",
       "    .dataframe tbody tr th:only-of-type {\n",
       "        vertical-align: middle;\n",
       "    }\n",
       "\n",
       "    .dataframe tbody tr th {\n",
       "        vertical-align: top;\n",
       "    }\n",
       "\n",
       "    .dataframe thead th {\n",
       "        text-align: right;\n",
       "    }\n",
       "</style>\n",
       "<table border=\"1\" class=\"dataframe\">\n",
       "  <thead>\n",
       "    <tr style=\"text-align: right;\">\n",
       "      <th></th>\n",
       "      <th>Content ID</th>\n",
       "      <th>ContentType</th>\n",
       "      <th>Category</th>\n",
       "      <th>Type</th>\n",
       "      <th>Datetime</th>\n",
       "      <th>Sentiment</th>\n",
       "      <th>Score</th>\n",
       "    </tr>\n",
       "  </thead>\n",
       "  <tbody>\n",
       "    <tr>\n",
       "      <th>0</th>\n",
       "      <td>97522e57-d9ab-4bd6-97bf-c24d952602d2</td>\n",
       "      <td>photo</td>\n",
       "      <td>Studying</td>\n",
       "      <td>disgust</td>\n",
       "      <td>2020-11-07 09:43:50</td>\n",
       "      <td>negative</td>\n",
       "      <td>0.0</td>\n",
       "    </tr>\n",
       "    <tr>\n",
       "      <th>1</th>\n",
       "      <td>97522e57-d9ab-4bd6-97bf-c24d952602d2</td>\n",
       "      <td>photo</td>\n",
       "      <td>Studying</td>\n",
       "      <td>dislike</td>\n",
       "      <td>2021-06-17 12:22:51</td>\n",
       "      <td>negative</td>\n",
       "      <td>10.0</td>\n",
       "    </tr>\n",
       "    <tr>\n",
       "      <th>2</th>\n",
       "      <td>97522e57-d9ab-4bd6-97bf-c24d952602d2</td>\n",
       "      <td>photo</td>\n",
       "      <td>Studying</td>\n",
       "      <td>scared</td>\n",
       "      <td>2021-04-18 05:13:58</td>\n",
       "      <td>negative</td>\n",
       "      <td>15.0</td>\n",
       "    </tr>\n",
       "    <tr>\n",
       "      <th>3</th>\n",
       "      <td>97522e57-d9ab-4bd6-97bf-c24d952602d2</td>\n",
       "      <td>photo</td>\n",
       "      <td>Studying</td>\n",
       "      <td>disgust</td>\n",
       "      <td>2021-01-06 19:13:01</td>\n",
       "      <td>negative</td>\n",
       "      <td>0.0</td>\n",
       "    </tr>\n",
       "    <tr>\n",
       "      <th>4</th>\n",
       "      <td>97522e57-d9ab-4bd6-97bf-c24d952602d2</td>\n",
       "      <td>photo</td>\n",
       "      <td>Studying</td>\n",
       "      <td>interested</td>\n",
       "      <td>2020-08-23 12:25:58</td>\n",
       "      <td>positive</td>\n",
       "      <td>30.0</td>\n",
       "    </tr>\n",
       "    <tr>\n",
       "      <th>...</th>\n",
       "      <td>...</td>\n",
       "      <td>...</td>\n",
       "      <td>...</td>\n",
       "      <td>...</td>\n",
       "      <td>...</td>\n",
       "      <td>...</td>\n",
       "      <td>...</td>\n",
       "    </tr>\n",
       "    <tr>\n",
       "      <th>24606</th>\n",
       "      <td>75d6b589-7fae-4a6d-b0d0-752845150e56</td>\n",
       "      <td>audio</td>\n",
       "      <td>Technology</td>\n",
       "      <td>dislike</td>\n",
       "      <td>2020-06-27 09:46:48</td>\n",
       "      <td>negative</td>\n",
       "      <td>10.0</td>\n",
       "    </tr>\n",
       "    <tr>\n",
       "      <th>24607</th>\n",
       "      <td>75d6b589-7fae-4a6d-b0d0-752845150e56</td>\n",
       "      <td>audio</td>\n",
       "      <td>Technology</td>\n",
       "      <td>intrigued</td>\n",
       "      <td>2021-02-16 17:17:02</td>\n",
       "      <td>positive</td>\n",
       "      <td>45.0</td>\n",
       "    </tr>\n",
       "    <tr>\n",
       "      <th>24608</th>\n",
       "      <td>75d6b589-7fae-4a6d-b0d0-752845150e56</td>\n",
       "      <td>audio</td>\n",
       "      <td>Technology</td>\n",
       "      <td>interested</td>\n",
       "      <td>2020-09-12 03:54:58</td>\n",
       "      <td>positive</td>\n",
       "      <td>30.0</td>\n",
       "    </tr>\n",
       "    <tr>\n",
       "      <th>24609</th>\n",
       "      <td>75d6b589-7fae-4a6d-b0d0-752845150e56</td>\n",
       "      <td>audio</td>\n",
       "      <td>Technology</td>\n",
       "      <td>worried</td>\n",
       "      <td>2020-11-04 20:08:31</td>\n",
       "      <td>negative</td>\n",
       "      <td>12.0</td>\n",
       "    </tr>\n",
       "    <tr>\n",
       "      <th>24610</th>\n",
       "      <td>75d6b589-7fae-4a6d-b0d0-752845150e56</td>\n",
       "      <td>audio</td>\n",
       "      <td>Technology</td>\n",
       "      <td>cherish</td>\n",
       "      <td>2021-01-04 04:55:11</td>\n",
       "      <td>positive</td>\n",
       "      <td>70.0</td>\n",
       "    </tr>\n",
       "  </tbody>\n",
       "</table>\n",
       "<p>24573 rows × 7 columns</p>\n",
       "</div>"
      ],
      "text/plain": [
       "                                 Content ID ContentType    Category  \\\n",
       "0      97522e57-d9ab-4bd6-97bf-c24d952602d2       photo    Studying   \n",
       "1      97522e57-d9ab-4bd6-97bf-c24d952602d2       photo    Studying   \n",
       "2      97522e57-d9ab-4bd6-97bf-c24d952602d2       photo    Studying   \n",
       "3      97522e57-d9ab-4bd6-97bf-c24d952602d2       photo    Studying   \n",
       "4      97522e57-d9ab-4bd6-97bf-c24d952602d2       photo    Studying   \n",
       "...                                     ...         ...         ...   \n",
       "24606  75d6b589-7fae-4a6d-b0d0-752845150e56       audio  Technology   \n",
       "24607  75d6b589-7fae-4a6d-b0d0-752845150e56       audio  Technology   \n",
       "24608  75d6b589-7fae-4a6d-b0d0-752845150e56       audio  Technology   \n",
       "24609  75d6b589-7fae-4a6d-b0d0-752845150e56       audio  Technology   \n",
       "24610  75d6b589-7fae-4a6d-b0d0-752845150e56       audio  Technology   \n",
       "\n",
       "             Type            Datetime Sentiment  Score  \n",
       "0         disgust 2020-11-07 09:43:50  negative    0.0  \n",
       "1         dislike 2021-06-17 12:22:51  negative   10.0  \n",
       "2          scared 2021-04-18 05:13:58  negative   15.0  \n",
       "3         disgust 2021-01-06 19:13:01  negative    0.0  \n",
       "4      interested 2020-08-23 12:25:58  positive   30.0  \n",
       "...           ...                 ...       ...    ...  \n",
       "24606     dislike 2020-06-27 09:46:48  negative   10.0  \n",
       "24607   intrigued 2021-02-16 17:17:02  positive   45.0  \n",
       "24608  interested 2020-09-12 03:54:58  positive   30.0  \n",
       "24609     worried 2020-11-04 20:08:31  negative   12.0  \n",
       "24610     cherish 2021-01-04 04:55:11  positive   70.0  \n",
       "\n",
       "[24573 rows x 7 columns]"
      ]
     },
     "execution_count": 63,
     "metadata": {},
     "output_type": "execute_result"
    }
   ],
   "source": [
    "df.dropna()"
   ]
  },
  {
   "cell_type": "code",
   "execution_count": 65,
   "id": "601e389e-126c-42b5-9a97-677537998344",
   "metadata": {},
   "outputs": [
    {
     "data": {
      "text/html": [
       "<div>\n",
       "<style scoped>\n",
       "    .dataframe tbody tr th:only-of-type {\n",
       "        vertical-align: middle;\n",
       "    }\n",
       "\n",
       "    .dataframe tbody tr th {\n",
       "        vertical-align: top;\n",
       "    }\n",
       "\n",
       "    .dataframe thead th {\n",
       "        text-align: right;\n",
       "    }\n",
       "</style>\n",
       "<table border=\"1\" class=\"dataframe\">\n",
       "  <thead>\n",
       "    <tr style=\"text-align: right;\">\n",
       "      <th></th>\n",
       "      <th>Content ID</th>\n",
       "      <th>ContentType</th>\n",
       "      <th>Category</th>\n",
       "      <th>Type</th>\n",
       "      <th>Datetime</th>\n",
       "      <th>Sentiment</th>\n",
       "      <th>Score</th>\n",
       "    </tr>\n",
       "  </thead>\n",
       "  <tbody>\n",
       "    <tr>\n",
       "      <th>0</th>\n",
       "      <td>97522e57-d9ab-4bd6-97bf-c24d952602d2</td>\n",
       "      <td>photo</td>\n",
       "      <td>Studying</td>\n",
       "      <td>disgust</td>\n",
       "      <td>2020-11-07 09:43:50</td>\n",
       "      <td>negative</td>\n",
       "      <td>0.0</td>\n",
       "    </tr>\n",
       "    <tr>\n",
       "      <th>1</th>\n",
       "      <td>97522e57-d9ab-4bd6-97bf-c24d952602d2</td>\n",
       "      <td>photo</td>\n",
       "      <td>Studying</td>\n",
       "      <td>dislike</td>\n",
       "      <td>2021-06-17 12:22:51</td>\n",
       "      <td>negative</td>\n",
       "      <td>10.0</td>\n",
       "    </tr>\n",
       "    <tr>\n",
       "      <th>2</th>\n",
       "      <td>97522e57-d9ab-4bd6-97bf-c24d952602d2</td>\n",
       "      <td>photo</td>\n",
       "      <td>Studying</td>\n",
       "      <td>scared</td>\n",
       "      <td>2021-04-18 05:13:58</td>\n",
       "      <td>negative</td>\n",
       "      <td>15.0</td>\n",
       "    </tr>\n",
       "    <tr>\n",
       "      <th>3</th>\n",
       "      <td>97522e57-d9ab-4bd6-97bf-c24d952602d2</td>\n",
       "      <td>photo</td>\n",
       "      <td>Studying</td>\n",
       "      <td>disgust</td>\n",
       "      <td>2021-01-06 19:13:01</td>\n",
       "      <td>negative</td>\n",
       "      <td>0.0</td>\n",
       "    </tr>\n",
       "    <tr>\n",
       "      <th>4</th>\n",
       "      <td>97522e57-d9ab-4bd6-97bf-c24d952602d2</td>\n",
       "      <td>photo</td>\n",
       "      <td>Studying</td>\n",
       "      <td>interested</td>\n",
       "      <td>2020-08-23 12:25:58</td>\n",
       "      <td>positive</td>\n",
       "      <td>30.0</td>\n",
       "    </tr>\n",
       "    <tr>\n",
       "      <th>...</th>\n",
       "      <td>...</td>\n",
       "      <td>...</td>\n",
       "      <td>...</td>\n",
       "      <td>...</td>\n",
       "      <td>...</td>\n",
       "      <td>...</td>\n",
       "      <td>...</td>\n",
       "    </tr>\n",
       "    <tr>\n",
       "      <th>24606</th>\n",
       "      <td>75d6b589-7fae-4a6d-b0d0-752845150e56</td>\n",
       "      <td>audio</td>\n",
       "      <td>Technology</td>\n",
       "      <td>dislike</td>\n",
       "      <td>2020-06-27 09:46:48</td>\n",
       "      <td>negative</td>\n",
       "      <td>10.0</td>\n",
       "    </tr>\n",
       "    <tr>\n",
       "      <th>24607</th>\n",
       "      <td>75d6b589-7fae-4a6d-b0d0-752845150e56</td>\n",
       "      <td>audio</td>\n",
       "      <td>Technology</td>\n",
       "      <td>intrigued</td>\n",
       "      <td>2021-02-16 17:17:02</td>\n",
       "      <td>positive</td>\n",
       "      <td>45.0</td>\n",
       "    </tr>\n",
       "    <tr>\n",
       "      <th>24608</th>\n",
       "      <td>75d6b589-7fae-4a6d-b0d0-752845150e56</td>\n",
       "      <td>audio</td>\n",
       "      <td>Technology</td>\n",
       "      <td>interested</td>\n",
       "      <td>2020-09-12 03:54:58</td>\n",
       "      <td>positive</td>\n",
       "      <td>30.0</td>\n",
       "    </tr>\n",
       "    <tr>\n",
       "      <th>24609</th>\n",
       "      <td>75d6b589-7fae-4a6d-b0d0-752845150e56</td>\n",
       "      <td>audio</td>\n",
       "      <td>Technology</td>\n",
       "      <td>worried</td>\n",
       "      <td>2020-11-04 20:08:31</td>\n",
       "      <td>negative</td>\n",
       "      <td>12.0</td>\n",
       "    </tr>\n",
       "    <tr>\n",
       "      <th>24610</th>\n",
       "      <td>75d6b589-7fae-4a6d-b0d0-752845150e56</td>\n",
       "      <td>audio</td>\n",
       "      <td>Technology</td>\n",
       "      <td>cherish</td>\n",
       "      <td>2021-01-04 04:55:11</td>\n",
       "      <td>positive</td>\n",
       "      <td>70.0</td>\n",
       "    </tr>\n",
       "  </tbody>\n",
       "</table>\n",
       "<p>24611 rows × 7 columns</p>\n",
       "</div>"
      ],
      "text/plain": [
       "                                 Content ID ContentType    Category  \\\n",
       "0      97522e57-d9ab-4bd6-97bf-c24d952602d2       photo    Studying   \n",
       "1      97522e57-d9ab-4bd6-97bf-c24d952602d2       photo    Studying   \n",
       "2      97522e57-d9ab-4bd6-97bf-c24d952602d2       photo    Studying   \n",
       "3      97522e57-d9ab-4bd6-97bf-c24d952602d2       photo    Studying   \n",
       "4      97522e57-d9ab-4bd6-97bf-c24d952602d2       photo    Studying   \n",
       "...                                     ...         ...         ...   \n",
       "24606  75d6b589-7fae-4a6d-b0d0-752845150e56       audio  Technology   \n",
       "24607  75d6b589-7fae-4a6d-b0d0-752845150e56       audio  Technology   \n",
       "24608  75d6b589-7fae-4a6d-b0d0-752845150e56       audio  Technology   \n",
       "24609  75d6b589-7fae-4a6d-b0d0-752845150e56       audio  Technology   \n",
       "24610  75d6b589-7fae-4a6d-b0d0-752845150e56       audio  Technology   \n",
       "\n",
       "             Type            Datetime Sentiment  Score  \n",
       "0         disgust 2020-11-07 09:43:50  negative    0.0  \n",
       "1         dislike 2021-06-17 12:22:51  negative   10.0  \n",
       "2          scared 2021-04-18 05:13:58  negative   15.0  \n",
       "3         disgust 2021-01-06 19:13:01  negative    0.0  \n",
       "4      interested 2020-08-23 12:25:58  positive   30.0  \n",
       "...           ...                 ...       ...    ...  \n",
       "24606     dislike 2020-06-27 09:46:48  negative   10.0  \n",
       "24607   intrigued 2021-02-16 17:17:02  positive   45.0  \n",
       "24608  interested 2020-09-12 03:54:58  positive   30.0  \n",
       "24609     worried 2020-11-04 20:08:31  negative   12.0  \n",
       "24610     cherish 2021-01-04 04:55:11  positive   70.0  \n",
       "\n",
       "[24611 rows x 7 columns]"
      ]
     },
     "execution_count": 65,
     "metadata": {},
     "output_type": "execute_result"
    }
   ],
   "source": [
    "df"
   ]
  },
  {
   "cell_type": "code",
   "execution_count": 67,
   "id": "a9ce8a3e-d72b-4302-a7c0-fe491a43948b",
   "metadata": {},
   "outputs": [
    {
     "data": {
      "text/plain": [
       "Content ID      0\n",
       "ContentType     0\n",
       "Category        0\n",
       "Type           38\n",
       "Datetime       38\n",
       "Sentiment      38\n",
       "Score          38\n",
       "dtype: int64"
      ]
     },
     "execution_count": 67,
     "metadata": {},
     "output_type": "execute_result"
    }
   ],
   "source": [
    "df.isna().sum()"
   ]
  },
  {
   "cell_type": "code",
   "execution_count": null,
   "id": "edbcb100-95bd-42c6-bdde-a1c11c960bfa",
   "metadata": {},
   "outputs": [],
   "source": [
    "Top 5 performing categories"
   ]
  },
  {
   "cell_type": "code",
   "execution_count": 69,
   "id": "6ea7176a-bf9c-4997-87d1-dfa58dec513b",
   "metadata": {},
   "outputs": [
    {
     "data": {
      "text/plain": [
       "Category\n",
       "Animals           74965.0\n",
       "Science           71168.0\n",
       "Healthy Eating    69339.0\n",
       "Technology        68738.0\n",
       "Food              66676.0\n",
       "Name: Score, dtype: float64"
      ]
     },
     "execution_count": 69,
     "metadata": {},
     "output_type": "execute_result"
    }
   ],
   "source": [
    "top_5_performing_category = df.groupby('Category')['Score'].sum().sort_values(ascending=False)\n",
    "top_5_performing_category.head()"
   ]
  },
  {
   "cell_type": "code",
   "execution_count": 81,
   "id": "f59fefe3-7650-4498-8054-5220eadc44bb",
   "metadata": {},
   "outputs": [
    {
     "data": {
      "text/plain": [
       "Category\n",
       "Animals           74965.0\n",
       "Science           71168.0\n",
       "Healthy Eating    69339.0\n",
       "Technology        68738.0\n",
       "Food              66676.0\n",
       "Name: Score, dtype: float64"
      ]
     },
     "execution_count": 81,
     "metadata": {},
     "output_type": "execute_result"
    }
   ],
   "source": [
    "top_5 = top_5_performing_category.head()\n",
    "top_5"
   ]
  },
  {
   "cell_type": "code",
   "execution_count": 85,
   "id": "9e0234c3-f49b-40a9-98fc-80bb3f7d982e",
   "metadata": {},
   "outputs": [
    {
     "data": {
      "image/png": "[encoded data removed]",
      "text/plain": [
       "<Figure size 640x480 with 1 Axes>"
      ]
     },
     "metadata": {},
     "output_type": "display_data"
    }
   ],
   "source": [
    "import matplotlib.pyplot as plt\n",
    "\n",
    "fig, ax = plt.subplots()\n",
    "\n",
    "ax.bar(top_5.index, top_5.values)\n",
    "\n",
    "ax.set_title('Top 5 Categories')\n",
    "ax.set_xlabel('Category')\n",
    "ax.set_ylabel('Score')\n",
    "\n",
    "ax.set_xticks(range(len(top_5.index)))\n",
    "ax.set_xticklabels(top_5.index, rotation=90)\n",
    "\n",
    "plt.tight_layout()  # To prevent label cut-off\n",
    "plt.show()"
   ]
  },
  {
   "cell_type": "code",
   "execution_count": 87,
   "id": "c8f2164f-7fe3-4fb5-a94a-b6ef7fd7b3b2",
   "metadata": {},
   "outputs": [
    {
     "data": {
      "image/png": "[encoded data removed]",
      "text/plain": [
       "<Figure size 640x480 with 1 Axes>"
      ]
     },
     "metadata": {},
     "output_type": "display_data"
    }
   ],
   "source": [
    "import matplotlib.pyplot as plt\n",
    "\n",
    "fig, ax = plt.subplots()\n",
    "\n",
    "ax.bar(top_5_performing_category.index, top_5_performing_category.values)\n",
    "\n",
    "ax.set_title('Category Performance')\n",
    "ax.set_xlabel('Category')\n",
    "ax.set_ylabel('Score')\n",
    "\n",
    "ax.set_xticks(range(len(top_5_performing_category.index)))\n",
    "ax.set_xticklabels(top_5_performing_category.index, rotation=90)\n",
    "\n",
    "plt.tight_layout()  # To prevent label cut-off\n",
    "plt.show()\n"
   ]
  },
  {
   "cell_type": "code",
   "execution_count": null,
   "id": "a2c3e9e8-359e-4a58-ab75-13b92a6f97d4",
   "metadata": {},
   "outputs": [],
   "source": [
    "UNIQUE CATEGORIES"
   ]
  },
  {
   "cell_type": "code",
   "execution_count": 89,
   "id": "dad95300-49bc-4ecf-99fa-40833b40a638",
   "metadata": {},
   "outputs": [
    {
     "data": {
      "text/plain": [
       "array(['Studying', 'Healthy Eating', 'Technology', 'Food', 'Cooking',\n",
       "       'Dogs', 'Soccer', 'Public Speaking', 'Science', 'Tennis', 'Travel',\n",
       "       'Fitness', 'Education', 'Veganism', 'Animals', 'Culture'],\n",
       "      dtype=object)"
      ]
     },
     "execution_count": 89,
     "metadata": {},
     "output_type": "execute_result"
    }
   ],
   "source": [
    "unique_categories = df['Category'].unique()\n",
    "unique_categories"
   ]
  },
  {
   "cell_type": "code",
   "execution_count": 107,
   "id": "fb63c9d7-7c91-41a5-b04d-82af86f9f3b7",
   "metadata": {},
   "outputs": [
    {
     "data": {
      "text/plain": [
       "Category\n",
       "Animals           1897\n",
       "Food              1699\n",
       "Healthy Eating    1717\n",
       "Science           1796\n",
       "Technology        1698\n",
       "Name: Type, dtype: int64"
      ]
     },
     "execution_count": 107,
     "metadata": {},
     "output_type": "execute_result"
    }
   ],
   "source": [
    "top_categories = df.groupby('Category')['Score'].count().sort_values(ascending=False).head()\n",
    "\n",
    "filtered_df = df[df['Category'].isin(top_categories.index)]\n",
    "\n",
    "reactions_by_category = filtered_df.groupby('Category')['Type'].count()\n",
    "\n",
    "reactions_by_category"
   ]
  },
  {
   "cell_type": "code",
   "execution_count": 109,
   "id": "76ad1c8d-0d71-4f61-a51e-397da14aa843",
   "metadata": {},
   "outputs": [
    {
     "data": {
      "image/png": "[encoded data removed]",
      "text/plain": [
       "<Figure size 640x480 with 1 Axes>"
      ]
     },
     "metadata": {},
     "output_type": "display_data"
    }
   ],
   "source": [
    "import matplotlib.pyplot as plt\n",
    "\n",
    "fig, ax = plt.subplots()\n",
    "\n",
    "ax.bar(reactions_by_category.index, reactions_by_category.values)\n",
    "\n",
    "ax.set_title('Top 5 Categories with their Reaction Count')\n",
    "ax.set_xlabel('Category')\n",
    "ax.set_ylabel('Reaction Count')\n",
    "\n",
    "ax.set_xticks(range(len(reactions_by_category.index)))\n",
    "ax.set_xticklabels(reactions_by_category.index, rotation=90)\n",
    "\n",
    "#plt.tight_layout()  # To prevent label cut-off\n",
    "plt.show()"
   ]
  },
  {
   "cell_type": "code",
   "execution_count": null,
   "id": "a436eea3-e47f-4458-b910-2348fe2b8c24",
   "metadata": {},
   "outputs": [],
   "source": [
    "THE MONTH WITH THE MOST POST"
   ]
  },
  {
   "cell_type": "code",
   "execution_count": 105,
   "id": "72d37b88-1866-475f-a508-0d40eb64a788",
   "metadata": {},
   "outputs": [],
   "source": [
    "df['Month'] = df['Datetime'].dt.month"
   ]
  },
  {
   "cell_type": "code",
   "execution_count": 115,
   "id": "8ecb5c39-aacb-4645-a591-f0a7ff9f5d91",
   "metadata": {},
   "outputs": [
    {
     "data": {
      "text/plain": [
       "Month\n",
       "5.0     2138\n",
       "1.0     2126\n",
       "8.0     2114\n",
       "12.0    2092\n",
       "7.0     2070\n",
       "Name: Content ID, dtype: int64"
      ]
     },
     "execution_count": 115,
     "metadata": {},
     "output_type": "execute_result"
    }
   ],
   "source": [
    "post_per_month = df.groupby('Month')['Content ID'].count().sort_values(ascending=False).head()\n",
    "post_per_month"
   ]
  },
  {
   "cell_type": "code",
   "execution_count": null,
   "id": "5b2b6cce-ced8-4b81-968c-cf041b1b148b",
   "metadata": {},
   "outputs": [],
   "source": []
  },
  {
   "cell_type": "code",
   "execution_count": 71,
   "id": "290c526d-f2be-44f5-b3c9-c95cdd85ee2c",
   "metadata": {},
   "outputs": [
    {
     "data": {
      "text/html": [
       "<div>\n",
       "<style scoped>\n",
       "    .dataframe tbody tr th:only-of-type {\n",
       "        vertical-align: middle;\n",
       "    }\n",
       "\n",
       "    .dataframe tbody tr th {\n",
       "        vertical-align: top;\n",
       "    }\n",
       "\n",
       "    .dataframe thead th {\n",
       "        text-align: right;\n",
       "    }\n",
       "</style>\n",
       "<table border=\"1\" class=\"dataframe\">\n",
       "  <thead>\n",
       "    <tr style=\"text-align: right;\">\n",
       "      <th></th>\n",
       "      <th>Content ID</th>\n",
       "      <th>ContentType</th>\n",
       "      <th>Category</th>\n",
       "      <th>Type</th>\n",
       "      <th>Datetime</th>\n",
       "      <th>Sentiment</th>\n",
       "      <th>Score</th>\n",
       "    </tr>\n",
       "  </thead>\n",
       "  <tbody>\n",
       "    <tr>\n",
       "      <th>0</th>\n",
       "      <td>97522e57-d9ab-4bd6-97bf-c24d952602d2</td>\n",
       "      <td>photo</td>\n",
       "      <td>Studying</td>\n",
       "      <td>disgust</td>\n",
       "      <td>2020-11-07 09:43:50</td>\n",
       "      <td>negative</td>\n",
       "      <td>0.0</td>\n",
       "    </tr>\n",
       "    <tr>\n",
       "      <th>1</th>\n",
       "      <td>97522e57-d9ab-4bd6-97bf-c24d952602d2</td>\n",
       "      <td>photo</td>\n",
       "      <td>Studying</td>\n",
       "      <td>dislike</td>\n",
       "      <td>2021-06-17 12:22:51</td>\n",
       "      <td>negative</td>\n",
       "      <td>10.0</td>\n",
       "    </tr>\n",
       "    <tr>\n",
       "      <th>2</th>\n",
       "      <td>97522e57-d9ab-4bd6-97bf-c24d952602d2</td>\n",
       "      <td>photo</td>\n",
       "      <td>Studying</td>\n",
       "      <td>scared</td>\n",
       "      <td>2021-04-18 05:13:58</td>\n",
       "      <td>negative</td>\n",
       "      <td>15.0</td>\n",
       "    </tr>\n",
       "    <tr>\n",
       "      <th>3</th>\n",
       "      <td>97522e57-d9ab-4bd6-97bf-c24d952602d2</td>\n",
       "      <td>photo</td>\n",
       "      <td>Studying</td>\n",
       "      <td>disgust</td>\n",
       "      <td>2021-01-06 19:13:01</td>\n",
       "      <td>negative</td>\n",
       "      <td>0.0</td>\n",
       "    </tr>\n",
       "    <tr>\n",
       "      <th>4</th>\n",
       "      <td>97522e57-d9ab-4bd6-97bf-c24d952602d2</td>\n",
       "      <td>photo</td>\n",
       "      <td>Studying</td>\n",
       "      <td>interested</td>\n",
       "      <td>2020-08-23 12:25:58</td>\n",
       "      <td>positive</td>\n",
       "      <td>30.0</td>\n",
       "    </tr>\n",
       "    <tr>\n",
       "      <th>...</th>\n",
       "      <td>...</td>\n",
       "      <td>...</td>\n",
       "      <td>...</td>\n",
       "      <td>...</td>\n",
       "      <td>...</td>\n",
       "      <td>...</td>\n",
       "      <td>...</td>\n",
       "    </tr>\n",
       "    <tr>\n",
       "      <th>24606</th>\n",
       "      <td>75d6b589-7fae-4a6d-b0d0-752845150e56</td>\n",
       "      <td>audio</td>\n",
       "      <td>Technology</td>\n",
       "      <td>dislike</td>\n",
       "      <td>2020-06-27 09:46:48</td>\n",
       "      <td>negative</td>\n",
       "      <td>10.0</td>\n",
       "    </tr>\n",
       "    <tr>\n",
       "      <th>24607</th>\n",
       "      <td>75d6b589-7fae-4a6d-b0d0-752845150e56</td>\n",
       "      <td>audio</td>\n",
       "      <td>Technology</td>\n",
       "      <td>intrigued</td>\n",
       "      <td>2021-02-16 17:17:02</td>\n",
       "      <td>positive</td>\n",
       "      <td>45.0</td>\n",
       "    </tr>\n",
       "    <tr>\n",
       "      <th>24608</th>\n",
       "      <td>75d6b589-7fae-4a6d-b0d0-752845150e56</td>\n",
       "      <td>audio</td>\n",
       "      <td>Technology</td>\n",
       "      <td>interested</td>\n",
       "      <td>2020-09-12 03:54:58</td>\n",
       "      <td>positive</td>\n",
       "      <td>30.0</td>\n",
       "    </tr>\n",
       "    <tr>\n",
       "      <th>24609</th>\n",
       "      <td>75d6b589-7fae-4a6d-b0d0-752845150e56</td>\n",
       "      <td>audio</td>\n",
       "      <td>Technology</td>\n",
       "      <td>worried</td>\n",
       "      <td>2020-11-04 20:08:31</td>\n",
       "      <td>negative</td>\n",
       "      <td>12.0</td>\n",
       "    </tr>\n",
       "    <tr>\n",
       "      <th>24610</th>\n",
       "      <td>75d6b589-7fae-4a6d-b0d0-752845150e56</td>\n",
       "      <td>audio</td>\n",
       "      <td>Technology</td>\n",
       "      <td>cherish</td>\n",
       "      <td>2021-01-04 04:55:11</td>\n",
       "      <td>positive</td>\n",
       "      <td>70.0</td>\n",
       "    </tr>\n",
       "  </tbody>\n",
       "</table>\n",
       "<p>24611 rows × 7 columns</p>\n",
       "</div>"
      ],
      "text/plain": [
       "                                 Content ID ContentType    Category  \\\n",
       "0      97522e57-d9ab-4bd6-97bf-c24d952602d2       photo    Studying   \n",
       "1      97522e57-d9ab-4bd6-97bf-c24d952602d2       photo    Studying   \n",
       "2      97522e57-d9ab-4bd6-97bf-c24d952602d2       photo    Studying   \n",
       "3      97522e57-d9ab-4bd6-97bf-c24d952602d2       photo    Studying   \n",
       "4      97522e57-d9ab-4bd6-97bf-c24d952602d2       photo    Studying   \n",
       "...                                     ...         ...         ...   \n",
       "24606  75d6b589-7fae-4a6d-b0d0-752845150e56       audio  Technology   \n",
       "24607  75d6b589-7fae-4a6d-b0d0-752845150e56       audio  Technology   \n",
       "24608  75d6b589-7fae-4a6d-b0d0-752845150e56       audio  Technology   \n",
       "24609  75d6b589-7fae-4a6d-b0d0-752845150e56       audio  Technology   \n",
       "24610  75d6b589-7fae-4a6d-b0d0-752845150e56       audio  Technology   \n",
       "\n",
       "             Type            Datetime Sentiment  Score  \n",
       "0         disgust 2020-11-07 09:43:50  negative    0.0  \n",
       "1         dislike 2021-06-17 12:22:51  negative   10.0  \n",
       "2          scared 2021-04-18 05:13:58  negative   15.0  \n",
       "3         disgust 2021-01-06 19:13:01  negative    0.0  \n",
       "4      interested 2020-08-23 12:25:58  positive   30.0  \n",
       "...           ...                 ...       ...    ...  \n",
       "24606     dislike 2020-06-27 09:46:48  negative   10.0  \n",
       "24607   intrigued 2021-02-16 17:17:02  positive   45.0  \n",
       "24608  interested 2020-09-12 03:54:58  positive   30.0  \n",
       "24609     worried 2020-11-04 20:08:31  negative   12.0  \n",
       "24610     cherish 2021-01-04 04:55:11  positive   70.0  \n",
       "\n",
       "[24611 rows x 7 columns]"
      ]
     },
     "execution_count": 71,
     "metadata": {},
     "output_type": "execute_result"
    }
   ],
   "source": [
    "df"
   ]
  },
  {
   "cell_type": "code",
   "execution_count": null,
   "id": "18f0d4bf-0895-4988-93a7-10bc988b0589",
   "metadata": {},
   "outputs": [],
   "source": []
  },
  {
   "cell_type": "code",
   "execution_count": 197,
   "id": "8ceb4ea7-7d78-4fd2-a0bf-4ffe64bc5a6a",
   "metadata": {},
   "outputs": [],
   "source": [
    "df.to_csv('CleanedSocialBuzz.csv', index=False)"
   ]
  },
  {
   "cell_type": "code",
   "execution_count": 201,
   "id": "55ae9a6f-1a94-4dc0-b042-df645f4f7575",
   "metadata": {},
   "outputs": [],
   "source": [
    "top_5_performing_category.to_csv('top_5_performing_categories.csv', index=True)"
   ]
  },
  {
   "cell_type": "code",
   "execution_count": null,
   "id": "a4fc23c1-6b44-422f-af92-7a2e0693a789",
   "metadata": {},
   "outputs": [],
   "source": []
  }
 ],
 "metadata": {
  "kernelspec": {
   "display_name": "Python 3 (ipykernel)",
   "language": "python",
   "name": "python3"
  },
  "language_info": {
   "codemirror_mode": {
    "name": "ipython",
    "version": 3
   },
   "file_extension": ".py",
   "mimetype": "text/x-python",
   "name": "python",
   "nbconvert_exporter": "python",
   "pygments_lexer": "ipython3",
   "version": "3.12.4"
  }
 },
 "nbformat": 4,
 "nbformat_minor": 5
}
